{
 "cells": [
  {
   "cell_type": "code",
   "execution_count": null,
   "metadata": {},
   "outputs": [],
   "source": [
    "import pandas as pd\n",
    "from sklearn.preprocessing import MinMaxScaler\n",
    "\n",
    "# load the dataset\n",
    "data = pd.read_csv('screentime_analysis.csv')\n",
    "\n",
    "# check for missing values and duplicates\n",
    "print(data.isnull().sum())\n",
    "print(data.duplicated().sum())\n",
    "\n",
    "# convert Date column to datetime and extract features\n",
    "data['Date'] = pd.to_datetime(data['Date'])\n",
    "data['DayOfWeek'] = data['Date'].dt.dayofweek\n",
    "data['Month'] = data['Date'].dt.month\n",
    "\n",
    "# encode the categorical 'App' column using one-hot encoding\n",
    "data = pd.get_dummies(data, columns=['App'], drop_first=True)\n",
    "\n",
    "# scale numerical features using MinMaxScaler\n",
    "scaler = MinMaxScaler()\n",
    "data[['Notifications', 'Times Opened']] = scaler.fit_transform(data[['Notifications', 'Times Opened']])\n",
    "\n",
    "# feature engineering\n",
    "data['Previous_Day_Usage'] = data['Usage (minutes)'].shift(1)\n",
    "data['Notifications_x_TimesOpened'] = data['Notifications'] * data['Times Opened']\n",
    "\n",
    "# save the preprocessed data to a file\n",
    "data.to_csv('preprocessed_screentime_analysis.csv', index=False)"
   ]
  },
  {
   "cell_type": "code",
   "execution_count": null,
   "metadata": {},
   "outputs": [],
   "source": [
    "from sklearn.model_selection import train_test_split\n",
    "from sklearn.ensemble import RandomForestRegressor\n",
    "from sklearn.metrics import mean_absolute_error\n",
    "\n",
    "# split data into features and target variable\n",
    "X = data.drop(columns=['Usage (minutes)', 'Date'])\n",
    "y = data['Usage (minutes)']\n",
    "\n",
    "# train-test split\n",
    "X_train, X_test, y_train, y_test = train_test_split(X, y, test_size=0.2, random_state=42)\n",
    "\n",
    "# train the model\n",
    "model = RandomForestRegressor(random_state=42)\n",
    "model.fit(X_train, y_train)\n",
    "\n",
    "# evaluate the model\n",
    "predictions = model.predict(X_test)\n",
    "mae = mean_absolute_error(y_test, predictions)\n",
    "print(f'Mean Absolute Error: {mae}')"
   ]
  },
  {
   "cell_type": "code",
   "execution_count": null,
   "metadata": {},
   "outputs": [],
   "source": [
    "!pip install apache-airflow"
   ]
  },
  {
   "cell_type": "code",
   "execution_count": null,
   "metadata": {},
   "outputs": [],
   "source": [
    "from airflow import DAG\n",
    "from airflow.operators.python import PythonOperator\n",
    "from datetime import datetime\n",
    "\n",
    "# define the data preprocessing function\n",
    "def preprocess_data():\n",
    "    file_path = 'screentime_analysis.csv'\n",
    "    data = pd.read_csv(file_path)\n",
    "\n",
    "    data['Date'] = pd.to_datetime(data['Date'])\n",
    "    data['DayOfWeek'] = data['Date'].dt.dayofweek\n",
    "    data['Month'] = data['Date'].dt.month\n",
    "\n",
    "    data = data.drop(columns=['Date'])\n",
    "\n",
    "    data = pd.get_dummies(data, columns=['App'], drop_first=True)\n",
    "\n",
    "    scaler = MinMaxScaler()\n",
    "    data[['Notifications', 'Times Opened']] = scaler.fit_transform(data[['Notifications', 'Times Opened']])\n",
    "\n",
    "    preprocessed_path = 'preprocessed_screentime_analysis.csv'\n",
    "    data.to_csv(preprocessed_path, index=False)\n",
    "    print(f\"Preprocessed data saved to {preprocessed_path}\")\n",
    "\n",
    "# define the DAG\n",
    "dag = DAG(\n",
    "    dag_id='data_preprocessing',\n",
    "    schedule_interval='@daily',\n",
    "    start_date=datetime(2025, 1, 1),\n",
    "    catchup=False,\n",
    ")\n",
    "\n",
    "# define the task\n",
    "preprocess_task = PythonOperator(\n",
    "    task_id='preprocess',\n",
    "    python_callable=preprocess_data,\n",
    "    dag=dag,\n",
    ")"
   ]
  },
  {
   "cell_type": "code",
   "execution_count": null,
   "metadata": {},
   "outputs": [],
   "source": [
    "airflow db init\n",
    "airflow webserver --port 8080\n",
    "airflow scheduler"
   ]
  }
 ],
 "metadata": {
  "language_info": {
   "name": "python"
  }
 },
 "nbformat": 4,
 "nbformat_minor": 2
}
